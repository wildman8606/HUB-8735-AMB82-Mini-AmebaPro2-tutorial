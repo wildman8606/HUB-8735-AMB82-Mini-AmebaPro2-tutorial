{
  "nbformat": 4,
  "nbformat_minor": 0,
  "metadata": {
    "colab": {
      "provenance": [],
      "gpuType": "T4"
    },
    "kernelspec": {
      "name": "python3",
      "display_name": "Python 3"
    },
    "language_info": {
      "name": "python"
    },
    "accelerator": "GPU",
    "gpuClass": "standard"
  },
  "cells": [
    {
      "cell_type": "code",
      "execution_count": 1,
      "metadata": {
        "colab": {
          "base_uri": "https://localhost:8080/"
        },
        "id": "k6eLoZ20cI9A",
        "outputId": "cd245f5e-7da1-4efc-ccf2-4b44cdc2fb24"
      },
      "outputs": [
        {
          "output_type": "stream",
          "name": "stdout",
          "text": [
            "/\n",
            "Mounted at /content/gdrive\n"
          ]
        }
      ],
      "source": [
        "%cd ..\n",
        "from google.colab import drive\n",
        "drive.mount('/content/gdrive')"
      ]
    },
    {
      "cell_type": "code",
      "source": [
        "%cd /content/gdrive/MyDrive/data\n",
        "%ls"
      ],
      "metadata": {
        "colab": {
          "base_uri": "https://localhost:8080/"
        },
        "id": "vqH93-ESkC28",
        "outputId": "d05f3055-3f2b-4b53-8b8c-5e50c2668be7"
      },
      "execution_count": 2,
      "outputs": [
        {
          "output_type": "stream",
          "name": "stdout",
          "text": [
            "/content/gdrive/MyDrive/data\n",
            "\u001b[0m\u001b[01;34mJPEGImages\u001b[0m/  \u001b[01;34mlabels\u001b[0m/\n"
          ]
        }
      ]
    },
    {
      "cell_type": "code",
      "source": [
        "import os\n",
        "import random\n",
        " \n",
        "trainval_percent = 0.1\n",
        "train_percent = 0.9\n",
        "txtfilepath = 'labels'\n",
        "imgfilepath = './JPEGImages/'\n",
        "total_txt = os.listdir(txtfilepath)\n",
        " \n",
        "num = len(total_txt)\n",
        "list = range(num)\n",
        "tv = int(num * trainval_percent)\n",
        "tr = int(tv * train_percent)\n",
        "trainval = random.sample(list, tv)\n",
        "train = random.sample(trainval, tr)\n",
        " \n",
        "ftrainval = open('trainval.txt', 'w')\n",
        "ftest = open('test.txt', 'w')\n",
        "ftrain = open('train.txt', 'w')\n",
        "fval = open('val.txt', 'w')\n",
        " \n",
        "for i in list:\n",
        "    name = imgfilepath + total_txt[i][:-4] + '.jpg\\n'\n",
        "    if i in trainval:\n",
        "        ftrainval.write(name)\n",
        "        if i in train:\n",
        "            ftest.write(name)\n",
        "        else:\n",
        "            fval.write(name)\n",
        "    else:\n",
        "        ftrain.write(name)\n",
        "\n",
        "\n",
        "ftrainval.close()\n",
        "ftrain.close()\n",
        "fval.close()\n",
        "ftest.close()"
      ],
      "metadata": {
        "id": "1oU-d87xmAZ8"
      },
      "execution_count": 3,
      "outputs": []
    },
    {
      "cell_type": "code",
      "source": [
        "cat train.txt val.txt  > all_train.txt"
      ],
      "metadata": {
        "id": "DCP5SSOxxiK2"
      },
      "execution_count": 4,
      "outputs": []
    },
    {
      "cell_type": "code",
      "source": [
        "%cd /content/gdrive/MyDrive/data\n",
        "%ls"
      ],
      "metadata": {
        "colab": {
          "base_uri": "https://localhost:8080/"
        },
        "id": "9rjSx25OTJQP",
        "outputId": "f6f1ef16-f21a-432a-eaf4-95cad1479f0e"
      },
      "execution_count": 5,
      "outputs": [
        {
          "output_type": "stream",
          "name": "stdout",
          "text": [
            "/content/gdrive/MyDrive/data\n",
            "all_train.txt  \u001b[0m\u001b[01;34mJPEGImages\u001b[0m/  \u001b[01;34mlabels\u001b[0m/  test.txt  train.txt  trainval.txt  val.txt\n"
          ]
        }
      ]
    }
  ]
}